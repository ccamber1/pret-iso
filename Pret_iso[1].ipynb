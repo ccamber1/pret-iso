

<!DOCTYPE html PUBLIC "-//W3C//DTD XHTML 1.0 Strict//EN" "http://www.w3.org/TR/xhtml1/DTD/xhtml1-strict.dtd">








<html xmlns="http://www.w3.org/1999/xhtml" lang="en">
	<head>
	    <title>Campus Virtual de la UEx &#8211; CAS</title>
        
		
        <link type="text/css" rel="stylesheet" href="/cas/css/cas.css" />
        <meta http-equiv="Content-Type" content="text/html; charset=UTF-8" />
	    <link rel="icon" href="/cas/favicon.ico" type="image/x-icon" />
        <script>
        function validateForm() {
            var username = document.forms["fm1"]["username"].value;
            var usernamearray = username.split('@');
            if (usernamearray[1]=="unex.es" | usernamearray[1]=="alumnos.unex.es" | usernamearray[1]==null)
    	    {
				document.forms["fm1"]["username"].value = usernamearray[0];
	    	}
    	    else{
         		alert("El formulario de autenticación sólo permite cuentas del tipo '@unex.es' y '@alumnos.unex.es'");
	        	return false;
    	    }
            document.forms["fm1"]["username"].value = usernamearray[0];
        }
        </script>

	</head>
	<body id="cas" class="fl-theme-iphone">
    <div class="flc-screenNavigator-view-container">
        <div class="fl-screenNavigator-view">
            <div id="header" class="flc-screenNavigator-navbar fl-navbar fl-table">
		<div id="logo">
			<p align="center"><img class="logo" src="/cas/images/LogoCVUEx.png" alt="Campus Virtual de la UEx"></p>
		</div>
            </div>		
            <div id="content" class="fl-screenNavigator-scroll-container">
		<div class="row1">



  <div class="box fl-panel col1" id="login">
			<form id="fm1" class="fm-v clearfix" action="/cas/login?service=https%3A%2F%2Fcampusvirtual.unex.es%2Fzonauex%2Favuex%2Flogin%2Findex.php%3FauthCAS%3DCAS" method="post" onsubmit="return validateForm();">
                  
                <!-- Congratulations on bringing CAS online!  The default authentication handler authenticates where usernames equal passwords: go ahead, try it out. -->
                    <h2>Enter your Email (UEx) and Password</h2>
                    <div class="row fl-controls-left">
                        <label for="username" class="fl-label"><span class="accesskey">E</span>mail (UEx):</label>
						

						
						
						<input id="username" name="username" class="required" tabindex="1" accesskey="u" type="text" value="" size="25" autocomplete="false"/>
						
                    </div>
                    <div class="row fl-controls-left">
                        <label for="password" class="fl-label"><span class="accesskey">P</span>assword:</label>
						
						
						<input id="password" name="password" class="required" tabindex="2" accesskey="p" type="password" value="" size="25" autocomplete="off"/>
                    </div>
                    <div class="row btn-row">
						<input type="hidden" name="lt" value="LT-19938783-25X4anOVejkDADTkEVrD4UYTLastpK" />
						<input type="hidden" name="execution" value="e2s1" />
						<input type="hidden" name="_eventId" value="submit" />

                        <input class="btn-submit" name="submit" accesskey="l" value="LOGIN" tabindex="4" type="submit" />
                        <input class="btn-submit" name="reset" accesskey="c" value="CLEAR" tabindex="5" type="reset" />
                    </div>
            </form>
          </div><div class="col2"><a href="https://uex.be/incibecsj" title="INCIBE">
			<picture>
				<source srcset="https://uex.be/incibeimg" media="(min-width: 800px)" />
		  		<img class="banner" src="https://uex.be/incibeimgmvl" />
			</picture>
		</a></div>
	  </div>
            <div id="sidebar">
				<div class="sidebar-content">
                <div id="list-languages" class="fl-panel">
                
					
                    
                  <h3>Idiomas:</h3>
                  
                     
                     
                        
						<ul
							><li class="first"><a href="login?service=https%3A%2F%2Fcampusvirtual.unex.es%2Fzonauex%2Favuex%2Flogin%2Findex.php%3FauthCAS%3DCAS&locale=en">English</a></li
							><li><a href="login?service=https%3A%2F%2Fcampusvirtual.unex.es%2Fzonauex%2Favuex%2Flogin%2Findex.php%3FauthCAS%3DCAS&locale=es">Spanish</a></li
							><li><a href="login?service=https%3A%2F%2Fcampusvirtual.unex.es%2Fzonauex%2Favuex%2Flogin%2Findex.php%3FauthCAS%3DCAS&locale=fr">French</a></li
                            ><li><a href="login?service=https%3A%2F%2Fcampusvirtual.unex.es%2Fzonauex%2Favuex%2Flogin%2Findex.php%3FauthCAS%3DCAS&locale=pt_PT">Portuguese</a></li
						></ul>
                     
                   
                </div>
			<p></p>
			<p></p>
			<H1>Si tiene cualquier incidencia, contacte por favor con el  <a href="https://uex.be/sadv">Servicio de Apoyo a la Docencia Virtual</a>.</H1>
			<H1>Si ha olvidado su contrase&ntilde;a puede recuperarla siguiendo la instrucciones de la siguiente p&aacute;gina <a target="_blank" href="https://uex.be/786937">Gesti&oacute;n credenciales</a>.</H1>
				</div>
            </div>



</div>
                <div id="footer" class="fl-panel fl-note fl-bevel-white fl-font-size-80">
                	<a id="jasig" href="http://www.jasig.org" title="go to Jasig home page"></a>
                    <div id="copyright">
                        <p align="center">Copyright &copy; 2005 - 2012 Jasig, Inc. All rights reserved.</p>
                    </div>
                </div>
            </div>
        </div>
        <script type="text/javascript" src="https://ajax.googleapis.com/ajax/libs/jquery/1.4.2/jquery.min.js"></script>
        <script type="text/javascript" src="https://ajax.googleapis.com/ajax/libs/jqueryui/1.8.5/jquery-ui.min.js"></script>
        <script type="text/javascript" src="/cas/js/cas.js"></script>
    </body>
</html>


